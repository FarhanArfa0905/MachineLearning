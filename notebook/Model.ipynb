{
  "nbformat": 4,
  "nbformat_minor": 0,
  "metadata": {
    "colab": {
      "provenance": []
    },
    "kernelspec": {
      "name": "python3",
      "display_name": "Python 3"
    },
    "language_info": {
      "name": "python"
    }
  },
  "cells": [
    {
      "cell_type": "markdown",
      "source": [
        "# Set up"
      ],
      "metadata": {
        "id": "tKuiKDoUxe_F"
      }
    },
    {
      "cell_type": "code",
      "source": [
        "#Common Imports\n",
        "import os\n",
        "import numpy as np\n",
        "import tensorflow as tf\n",
        "import pandas as pd\n",
        "import pickle\n",
        "from tensorflow import keras\n",
        "\n",
        "#Data Visualization\n",
        "import matplotlib.pyplot as plt\n",
        "\n",
        "#Model Architecture\n",
        "from tensorflow.keras import Sequential\n",
        "from tensorflow.keras.layers import Dropout, Dense\n",
        "\n",
        "# Model Training\n",
        "from tensorflow.keras.optimizers import Adam\n",
        "from tensorflow.keras.callbacks import EarlyStopping\n",
        "\n",
        "#LabelEncoder\n",
        "from sklearn.preprocessing import LabelEncoder, MinMaxScaler"
      ],
      "metadata": {
        "id": "kE08OZjTxiL9"
      },
      "execution_count": null,
      "outputs": []
    },
    {
      "cell_type": "markdown",
      "source": [
        "# Data Preparation"
      ],
      "metadata": {
        "id": "poVXM-2pyGn0"
      }
    },
    {
      "cell_type": "code",
      "source": [
        "# Constants\n",
        "BATCH_SIZE = 32 # number of samples per gradient update\n",
        "EPOCHS = 30 # number of epoch to train models how much\n",
        "\n",
        "# Hyperparameters\n",
        "LEARNING_RATE = 1e-3 # learning rate for the optimizer\n",
        "\n",
        "# Model training\n",
        "LOSS = 'mse'\n",
        "METRICS = ['mae']"
      ],
      "metadata": {
        "id": "j3-DuAoEyJY0"
      },
      "execution_count": null,
      "outputs": []
    },
    {
      "cell_type": "markdown",
      "source": [
        "Datasets Path"
      ],
      "metadata": {
        "id": "KW4LezBrz_nk"
      }
    },
    {
      "cell_type": "code",
      "source": [
        "# Dataset Paths\n",
        "file_path = \"Transaction_Data.csv\""
      ],
      "metadata": {
        "id": "Wbnt1kYbz-6t"
      },
      "execution_count": null,
      "outputs": []
    },
    {
      "cell_type": "markdown",
      "source": [
        "Check Configuration"
      ],
      "metadata": {
        "id": "sJz4FiAz0FTN"
      }
    },
    {
      "cell_type": "code",
      "source": [
        "# Print configuration to check our setting before\n",
        "print(f\"Batch Size: {BATCH_SIZE}\")\n",
        "print(f\"Epochs: {EPOCHS}\")\n",
        "print(f\"Learning Rate: {LEARNING_RATE}\")\n",
        "print(f\"Loss: {LOSS}\")\n",
        "print(f\"Metrics: {METRICS}\")\n",
        "print(f\"Dataset Path: {file_path}\")\n"
      ],
      "metadata": {
        "colab": {
          "base_uri": "https://localhost:8080/"
        },
        "id": "OiX98B-L0Gel",
        "outputId": "517b18bf-3a07-4774-b0c0-e9486921b37a"
      },
      "execution_count": null,
      "outputs": [
        {
          "output_type": "stream",
          "name": "stdout",
          "text": [
            "Batch Size: 32\n",
            "Epochs: 30\n",
            "Learning Rate: 0.001\n",
            "Loss: mse\n",
            "Metrics: ['mae']\n",
            "Dataset Path: Transaction_Data.csv\n"
          ]
        }
      ]
    },
    {
      "cell_type": "markdown",
      "source": [
        "Load Dataset"
      ],
      "metadata": {
        "id": "ztu4TGHR0UrN"
      }
    },
    {
      "cell_type": "code",
      "source": [
        "data = pd.read_csv(file_path)\n",
        "data['date'] = pd.to_datetime(data['date'])"
      ],
      "metadata": {
        "id": "MPD1DyHs0Y3V"
      },
      "execution_count": null,
      "outputs": []
    },
    {
      "cell_type": "markdown",
      "source": [
        "Check Dataset"
      ],
      "metadata": {
        "id": "p-U9KVnb0eFt"
      }
    },
    {
      "cell_type": "code",
      "source": [
        "# Display first few rows of the dataset to check our Dataset we have\n",
        "print(\"\\nSample Data:\")\n",
        "print(data.head())"
      ],
      "metadata": {
        "id": "xsKQ2GL20djF",
        "colab": {
          "base_uri": "https://localhost:8080/"
        },
        "outputId": "d005f310-0f3a-4344-bb8a-9ddf1d994047"
      },
      "execution_count": null,
      "outputs": [
        {
          "output_type": "stream",
          "name": "stdout",
          "text": [
            "\n",
            "Sample Data:\n",
            "  user_id                date        category  amount     type\n",
            "0  User_1 2024-09-01 12:04:00    Food & Drink   50000  Expense\n",
            "1  User_1 2024-09-02 14:43:00  Transportation   50000  Expense\n",
            "2  User_1 2024-09-03 10:26:00         Digital   52000  Expense\n",
            "3  User_1 2024-09-03 16:26:00  Transportation   40000  Expense\n",
            "4  User_1 2024-09-04 08:22:00          Income  200000   Income\n"
          ]
        }
      ]
    },
    {
      "cell_type": "code",
      "source": [
        "# Dataset summary, check our dataset type for each column\n",
        "print(\"\\nDataset Summary:\")\n",
        "print(data.info())"
      ],
      "metadata": {
        "id": "SEyoUlDP0ji9",
        "colab": {
          "base_uri": "https://localhost:8080/"
        },
        "outputId": "c4d59674-aa74-438b-ab9c-51365a18e46a"
      },
      "execution_count": null,
      "outputs": [
        {
          "output_type": "stream",
          "name": "stdout",
          "text": [
            "\n",
            "Dataset Summary:\n",
            "<class 'pandas.core.frame.DataFrame'>\n",
            "RangeIndex: 11763 entries, 0 to 11762\n",
            "Data columns (total 5 columns):\n",
            " #   Column    Non-Null Count  Dtype         \n",
            "---  ------    --------------  -----         \n",
            " 0   user_id   11763 non-null  object        \n",
            " 1   date      11763 non-null  datetime64[ns]\n",
            " 2   category  11763 non-null  object        \n",
            " 3   amount    11763 non-null  int64         \n",
            " 4   type      11763 non-null  object        \n",
            "dtypes: datetime64[ns](1), int64(1), object(3)\n",
            "memory usage: 459.6+ KB\n",
            "None\n"
          ]
        }
      ]
    },
    {
      "cell_type": "markdown",
      "source": [
        "# Data Preprocessing"
      ],
      "metadata": {
        "id": "pRPLeRHX0muN"
      }
    },
    {
      "cell_type": "code",
      "source": [
        "#Make a preprocessing data like do labeling in category and scalarizer 0-1 in amount column\n",
        "def preprocess_data(data, le_category=None, scaler=None):\n",
        "    data['month'] = data['date'].dt.month\n",
        "    data['day'] = data['date'].dt.day\n",
        "\n",
        "    # Encode 'category'\n",
        "    if le_category is None:\n",
        "        le_category = LabelEncoder()\n",
        "        data['category_encoded'] = le_category.fit_transform(data['category'])\n",
        "    else:\n",
        "        data['category_encoded'] = le_category.transform(data['category'])\n",
        "\n",
        "    # Scale 'amount'\n",
        "    if scaler is None:\n",
        "        scaler = MinMaxScaler()\n",
        "        data['amount_scaled'] = scaler.fit_transform(data[['amount']])\n",
        "    else:\n",
        "        data['amount_scaled'] = scaler.transform(data[['amount']])\n",
        "\n",
        "    return data, le_category, scaler\n"
      ],
      "metadata": {
        "id": "ONenaEJN0pmd"
      },
      "execution_count": null,
      "outputs": []
    },
    {
      "cell_type": "markdown",
      "source": [
        "Filter Expense Data Only For Training"
      ],
      "metadata": {
        "id": "0nDEbj8-0t0u"
      }
    },
    {
      "cell_type": "code",
      "source": [
        "# Filter only 'Expense' data in column type\n",
        "filtered_data = data[data['type'] == 'Expense']\n",
        "filtered_data, le_category, scaler = preprocess_data(filtered_data)"
      ],
      "metadata": {
        "id": "FvJI0kGn0w3d",
        "colab": {
          "base_uri": "https://localhost:8080/"
        },
        "outputId": "98ca6b6d-f770-4d6a-f391-9d4bb7674220"
      },
      "execution_count": null,
      "outputs": [
        {
          "output_type": "stream",
          "name": "stderr",
          "text": [
            "<ipython-input-8-ed3cd3ba1450>:3: SettingWithCopyWarning: \n",
            "A value is trying to be set on a copy of a slice from a DataFrame.\n",
            "Try using .loc[row_indexer,col_indexer] = value instead\n",
            "\n",
            "See the caveats in the documentation: https://pandas.pydata.org/pandas-docs/stable/user_guide/indexing.html#returning-a-view-versus-a-copy\n",
            "  data['month'] = data['date'].dt.month\n",
            "<ipython-input-8-ed3cd3ba1450>:4: SettingWithCopyWarning: \n",
            "A value is trying to be set on a copy of a slice from a DataFrame.\n",
            "Try using .loc[row_indexer,col_indexer] = value instead\n",
            "\n",
            "See the caveats in the documentation: https://pandas.pydata.org/pandas-docs/stable/user_guide/indexing.html#returning-a-view-versus-a-copy\n",
            "  data['day'] = data['date'].dt.day\n",
            "<ipython-input-8-ed3cd3ba1450>:9: SettingWithCopyWarning: \n",
            "A value is trying to be set on a copy of a slice from a DataFrame.\n",
            "Try using .loc[row_indexer,col_indexer] = value instead\n",
            "\n",
            "See the caveats in the documentation: https://pandas.pydata.org/pandas-docs/stable/user_guide/indexing.html#returning-a-view-versus-a-copy\n",
            "  data['category_encoded'] = le_category.fit_transform(data['category'])\n",
            "<ipython-input-8-ed3cd3ba1450>:16: SettingWithCopyWarning: \n",
            "A value is trying to be set on a copy of a slice from a DataFrame.\n",
            "Try using .loc[row_indexer,col_indexer] = value instead\n",
            "\n",
            "See the caveats in the documentation: https://pandas.pydata.org/pandas-docs/stable/user_guide/indexing.html#returning-a-view-versus-a-copy\n",
            "  data['amount_scaled'] = scaler.fit_transform(data[['amount']])\n"
          ]
        }
      ]
    },
    {
      "cell_type": "markdown",
      "source": [
        "Setup X and Y as input and output"
      ],
      "metadata": {
        "id": "gs6wF1Y-1V7V"
      }
    },
    {
      "cell_type": "code",
      "source": [
        "# Prepare features and labels\n",
        "X = filtered_data[['category_encoded', 'month', 'day']].values\n",
        "y = filtered_data['amount_scaled'].values"
      ],
      "metadata": {
        "id": "0C0PdmZu1YL9"
      },
      "execution_count": null,
      "outputs": []
    },
    {
      "cell_type": "code",
      "source": [
        "print(\"\\nPreprocessed Data:\")\n",
        "print(filtered_data.head())"
      ],
      "metadata": {
        "id": "L2qJwWBb1aXG",
        "colab": {
          "base_uri": "https://localhost:8080/"
        },
        "outputId": "83967b19-8846-454f-9e2a-aad1624b968d"
      },
      "execution_count": null,
      "outputs": [
        {
          "output_type": "stream",
          "name": "stdout",
          "text": [
            "\n",
            "Preprocessed Data:\n",
            "  user_id                date        category  amount     type  month  day  \\\n",
            "0  User_1 2024-09-01 12:04:00    Food & Drink   50000  Expense      9    1   \n",
            "1  User_1 2024-09-02 14:43:00  Transportation   50000  Expense      9    2   \n",
            "2  User_1 2024-09-03 10:26:00         Digital   52000  Expense      9    3   \n",
            "3  User_1 2024-09-03 16:26:00  Transportation   40000  Expense      9    3   \n",
            "5  User_1 2024-09-04 08:57:00  Transportation   50000  Expense      9    4   \n",
            "\n",
            "   category_encoded  amount_scaled  \n",
            "0                 3       0.005069  \n",
            "1                 6       0.005069  \n",
            "2                 0       0.005274  \n",
            "3                 6       0.004045  \n",
            "5                 6       0.005069  \n"
          ]
        }
      ]
    },
    {
      "cell_type": "markdown",
      "source": [
        "#Build Model"
      ],
      "metadata": {
        "id": "dG-r03E31ffF"
      }
    },
    {
      "cell_type": "markdown",
      "source": [
        "Model Architecture"
      ],
      "metadata": {
        "id": "GZ3zqrPw1hvt"
      }
    },
    {
      "cell_type": "code",
      "source": [
        "#Model Arhitecture with sequential model\n",
        "def build_model(input_shape):\n",
        "    model = tf.keras.Sequential([\n",
        "        tf.keras.layers.Input(shape=(input_shape,)),\n",
        "\n",
        "        # Dense Block 1\n",
        "        tf.keras.layers.Dense(256, activation='relu', kernel_regularizer='l2'),\n",
        "        tf.keras.layers.Dropout(0.3),\n",
        "\n",
        "        # Dense Block 2\n",
        "        tf.keras.layers.Dense(128, activation='relu', kernel_regularizer='l2'),\n",
        "        tf.keras.layers.Dropout(0.2),\n",
        "\n",
        "        # Dense Block 3\n",
        "        tf.keras.layers.Dense(64, activation='relu', kernel_regularizer='l2'),\n",
        "        tf.keras.layers.Dropout(0.1),\n",
        "\n",
        "        # Output Layer\n",
        "        tf.keras.layers.Dense(1, activation='linear')\n",
        "    ])\n",
        "    model.compile(optimizer=tf.keras.optimizers.Adam(learning_rate=LEARNING_RATE),\n",
        "                  loss=LOSS,\n",
        "                  metrics=METRICS)\n",
        "    return model\n",
        "\n",
        "model = build_model(X.shape[1])\n",
        "model.summary()\n"
      ],
      "metadata": {
        "id": "8W7dFlJA1gwl",
        "colab": {
          "base_uri": "https://localhost:8080/",
          "height": 374
        },
        "outputId": "4d444f18-cbf1-4549-b4fa-b788489ff1b2"
      },
      "execution_count": null,
      "outputs": [
        {
          "output_type": "display_data",
          "data": {
            "text/plain": [
              "\u001b[1mModel: \"sequential\"\u001b[0m\n"
            ],
            "text/html": [
              "<pre style=\"white-space:pre;overflow-x:auto;line-height:normal;font-family:Menlo,'DejaVu Sans Mono',consolas,'Courier New',monospace\"><span style=\"font-weight: bold\">Model: \"sequential\"</span>\n",
              "</pre>\n"
            ]
          },
          "metadata": {}
        },
        {
          "output_type": "display_data",
          "data": {
            "text/plain": [
              "┏━━━━━━━━━━━━━━━━━━━━━━━━━━━━━━━━━━━━━━┳━━━━━━━━━━━━━━━━━━━━━━━━━━━━━┳━━━━━━━━━━━━━━━━━┓\n",
              "┃\u001b[1m \u001b[0m\u001b[1mLayer (type)                        \u001b[0m\u001b[1m \u001b[0m┃\u001b[1m \u001b[0m\u001b[1mOutput Shape               \u001b[0m\u001b[1m \u001b[0m┃\u001b[1m \u001b[0m\u001b[1m        Param #\u001b[0m\u001b[1m \u001b[0m┃\n",
              "┡━━━━━━━━━━━━━━━━━━━━━━━━━━━━━━━━━━━━━━╇━━━━━━━━━━━━━━━━━━━━━━━━━━━━━╇━━━━━━━━━━━━━━━━━┩\n",
              "│ dense (\u001b[38;5;33mDense\u001b[0m)                        │ (\u001b[38;5;45mNone\u001b[0m, \u001b[38;5;34m256\u001b[0m)                 │           \u001b[38;5;34m1,024\u001b[0m │\n",
              "├──────────────────────────────────────┼─────────────────────────────┼─────────────────┤\n",
              "│ dropout (\u001b[38;5;33mDropout\u001b[0m)                    │ (\u001b[38;5;45mNone\u001b[0m, \u001b[38;5;34m256\u001b[0m)                 │               \u001b[38;5;34m0\u001b[0m │\n",
              "├──────────────────────────────────────┼─────────────────────────────┼─────────────────┤\n",
              "│ dense_1 (\u001b[38;5;33mDense\u001b[0m)                      │ (\u001b[38;5;45mNone\u001b[0m, \u001b[38;5;34m128\u001b[0m)                 │          \u001b[38;5;34m32,896\u001b[0m │\n",
              "├──────────────────────────────────────┼─────────────────────────────┼─────────────────┤\n",
              "│ dropout_1 (\u001b[38;5;33mDropout\u001b[0m)                  │ (\u001b[38;5;45mNone\u001b[0m, \u001b[38;5;34m128\u001b[0m)                 │               \u001b[38;5;34m0\u001b[0m │\n",
              "├──────────────────────────────────────┼─────────────────────────────┼─────────────────┤\n",
              "│ dense_2 (\u001b[38;5;33mDense\u001b[0m)                      │ (\u001b[38;5;45mNone\u001b[0m, \u001b[38;5;34m64\u001b[0m)                  │           \u001b[38;5;34m8,256\u001b[0m │\n",
              "├──────────────────────────────────────┼─────────────────────────────┼─────────────────┤\n",
              "│ dropout_2 (\u001b[38;5;33mDropout\u001b[0m)                  │ (\u001b[38;5;45mNone\u001b[0m, \u001b[38;5;34m64\u001b[0m)                  │               \u001b[38;5;34m0\u001b[0m │\n",
              "├──────────────────────────────────────┼─────────────────────────────┼─────────────────┤\n",
              "│ dense_3 (\u001b[38;5;33mDense\u001b[0m)                      │ (\u001b[38;5;45mNone\u001b[0m, \u001b[38;5;34m1\u001b[0m)                   │              \u001b[38;5;34m65\u001b[0m │\n",
              "└──────────────────────────────────────┴─────────────────────────────┴─────────────────┘\n"
            ],
            "text/html": [
              "<pre style=\"white-space:pre;overflow-x:auto;line-height:normal;font-family:Menlo,'DejaVu Sans Mono',consolas,'Courier New',monospace\">┏━━━━━━━━━━━━━━━━━━━━━━━━━━━━━━━━━━━━━━┳━━━━━━━━━━━━━━━━━━━━━━━━━━━━━┳━━━━━━━━━━━━━━━━━┓\n",
              "┃<span style=\"font-weight: bold\"> Layer (type)                         </span>┃<span style=\"font-weight: bold\"> Output Shape                </span>┃<span style=\"font-weight: bold\">         Param # </span>┃\n",
              "┡━━━━━━━━━━━━━━━━━━━━━━━━━━━━━━━━━━━━━━╇━━━━━━━━━━━━━━━━━━━━━━━━━━━━━╇━━━━━━━━━━━━━━━━━┩\n",
              "│ dense (<span style=\"color: #0087ff; text-decoration-color: #0087ff\">Dense</span>)                        │ (<span style=\"color: #00d7ff; text-decoration-color: #00d7ff\">None</span>, <span style=\"color: #00af00; text-decoration-color: #00af00\">256</span>)                 │           <span style=\"color: #00af00; text-decoration-color: #00af00\">1,024</span> │\n",
              "├──────────────────────────────────────┼─────────────────────────────┼─────────────────┤\n",
              "│ dropout (<span style=\"color: #0087ff; text-decoration-color: #0087ff\">Dropout</span>)                    │ (<span style=\"color: #00d7ff; text-decoration-color: #00d7ff\">None</span>, <span style=\"color: #00af00; text-decoration-color: #00af00\">256</span>)                 │               <span style=\"color: #00af00; text-decoration-color: #00af00\">0</span> │\n",
              "├──────────────────────────────────────┼─────────────────────────────┼─────────────────┤\n",
              "│ dense_1 (<span style=\"color: #0087ff; text-decoration-color: #0087ff\">Dense</span>)                      │ (<span style=\"color: #00d7ff; text-decoration-color: #00d7ff\">None</span>, <span style=\"color: #00af00; text-decoration-color: #00af00\">128</span>)                 │          <span style=\"color: #00af00; text-decoration-color: #00af00\">32,896</span> │\n",
              "├──────────────────────────────────────┼─────────────────────────────┼─────────────────┤\n",
              "│ dropout_1 (<span style=\"color: #0087ff; text-decoration-color: #0087ff\">Dropout</span>)                  │ (<span style=\"color: #00d7ff; text-decoration-color: #00d7ff\">None</span>, <span style=\"color: #00af00; text-decoration-color: #00af00\">128</span>)                 │               <span style=\"color: #00af00; text-decoration-color: #00af00\">0</span> │\n",
              "├──────────────────────────────────────┼─────────────────────────────┼─────────────────┤\n",
              "│ dense_2 (<span style=\"color: #0087ff; text-decoration-color: #0087ff\">Dense</span>)                      │ (<span style=\"color: #00d7ff; text-decoration-color: #00d7ff\">None</span>, <span style=\"color: #00af00; text-decoration-color: #00af00\">64</span>)                  │           <span style=\"color: #00af00; text-decoration-color: #00af00\">8,256</span> │\n",
              "├──────────────────────────────────────┼─────────────────────────────┼─────────────────┤\n",
              "│ dropout_2 (<span style=\"color: #0087ff; text-decoration-color: #0087ff\">Dropout</span>)                  │ (<span style=\"color: #00d7ff; text-decoration-color: #00d7ff\">None</span>, <span style=\"color: #00af00; text-decoration-color: #00af00\">64</span>)                  │               <span style=\"color: #00af00; text-decoration-color: #00af00\">0</span> │\n",
              "├──────────────────────────────────────┼─────────────────────────────┼─────────────────┤\n",
              "│ dense_3 (<span style=\"color: #0087ff; text-decoration-color: #0087ff\">Dense</span>)                      │ (<span style=\"color: #00d7ff; text-decoration-color: #00d7ff\">None</span>, <span style=\"color: #00af00; text-decoration-color: #00af00\">1</span>)                   │              <span style=\"color: #00af00; text-decoration-color: #00af00\">65</span> │\n",
              "└──────────────────────────────────────┴─────────────────────────────┴─────────────────┘\n",
              "</pre>\n"
            ]
          },
          "metadata": {}
        },
        {
          "output_type": "display_data",
          "data": {
            "text/plain": [
              "\u001b[1m Total params: \u001b[0m\u001b[38;5;34m42,241\u001b[0m (165.00 KB)\n"
            ],
            "text/html": [
              "<pre style=\"white-space:pre;overflow-x:auto;line-height:normal;font-family:Menlo,'DejaVu Sans Mono',consolas,'Courier New',monospace\"><span style=\"font-weight: bold\"> Total params: </span><span style=\"color: #00af00; text-decoration-color: #00af00\">42,241</span> (165.00 KB)\n",
              "</pre>\n"
            ]
          },
          "metadata": {}
        },
        {
          "output_type": "display_data",
          "data": {
            "text/plain": [
              "\u001b[1m Trainable params: \u001b[0m\u001b[38;5;34m42,241\u001b[0m (165.00 KB)\n"
            ],
            "text/html": [
              "<pre style=\"white-space:pre;overflow-x:auto;line-height:normal;font-family:Menlo,'DejaVu Sans Mono',consolas,'Courier New',monospace\"><span style=\"font-weight: bold\"> Trainable params: </span><span style=\"color: #00af00; text-decoration-color: #00af00\">42,241</span> (165.00 KB)\n",
              "</pre>\n"
            ]
          },
          "metadata": {}
        },
        {
          "output_type": "display_data",
          "data": {
            "text/plain": [
              "\u001b[1m Non-trainable params: \u001b[0m\u001b[38;5;34m0\u001b[0m (0.00 B)\n"
            ],
            "text/html": [
              "<pre style=\"white-space:pre;overflow-x:auto;line-height:normal;font-family:Menlo,'DejaVu Sans Mono',consolas,'Courier New',monospace\"><span style=\"font-weight: bold\"> Non-trainable params: </span><span style=\"color: #00af00; text-decoration-color: #00af00\">0</span> (0.00 B)\n",
              "</pre>\n"
            ]
          },
          "metadata": {}
        }
      ]
    },
    {
      "cell_type": "markdown",
      "source": [
        "Plot Function to show The Progress"
      ],
      "metadata": {
        "id": "veVVnDUt2ecN"
      }
    },
    {
      "cell_type": "code",
      "source": [
        "#Visualization Training Function to monitoring the progress\n",
        "def plot_training(history):\n",
        "    \"\"\"\n",
        "    Plot training loss and metrics over epochs.\n",
        "    \"\"\"\n",
        "    history_dict = history.history\n",
        "    plt.figure(figsize=(10, 6))\n",
        "    plt.plot(history_dict['loss'], label='Training Loss')\n",
        "    plt.plot(history_dict['val_loss'], label='Validation Loss')\n",
        "    plt.title('Training and Validation Loss')\n",
        "    plt.xlabel('Epochs')\n",
        "    plt.ylabel('Loss')\n",
        "    plt.legend()\n",
        "    plt.grid()\n",
        "    plt.show()"
      ],
      "metadata": {
        "id": "5CAQHx5G2db2"
      },
      "execution_count": null,
      "outputs": []
    },
    {
      "cell_type": "markdown",
      "source": [
        "#Train The Model"
      ],
      "metadata": {
        "id": "fqalsu7p17wV"
      }
    },
    {
      "cell_type": "code",
      "source": [
        "#Setup Early stop if the progress is flat\n",
        "early_stopping = EarlyStopping(monitor='val_loss', patience=5, restore_best_weights=True)"
      ],
      "metadata": {
        "id": "d-2SE_jy19E1"
      },
      "execution_count": null,
      "outputs": []
    },
    {
      "cell_type": "code",
      "source": [
        "history = model.fit(X, y,\n",
        "                    validation_split=0.2,\n",
        "                    epochs=EPOCHS,\n",
        "                    batch_size=BATCH_SIZE,\n",
        "                    callbacks=[early_stopping],\n",
        "                    verbose=1)"
      ],
      "metadata": {
        "id": "kDgeWOYz2ALV",
        "colab": {
          "base_uri": "https://localhost:8080/"
        },
        "outputId": "bc334db5-7f86-4730-e14a-31372be872d0"
      },
      "execution_count": null,
      "outputs": [
        {
          "output_type": "stream",
          "name": "stdout",
          "text": [
            "Epoch 1/30\n",
            "\u001b[1m269/269\u001b[0m \u001b[32m━━━━━━━━━━━━━━━━━━━━\u001b[0m\u001b[37m\u001b[0m \u001b[1m3s\u001b[0m 4ms/step - loss: 2.0648 - mae: 0.3126 - val_loss: 0.7384 - val_mae: 0.0375\n",
            "Epoch 2/30\n",
            "\u001b[1m269/269\u001b[0m \u001b[32m━━━━━━━━━━━━━━━━━━━━\u001b[0m\u001b[37m\u001b[0m \u001b[1m1s\u001b[0m 3ms/step - loss: 0.6185 - mae: 0.0368 - val_loss: 0.3729 - val_mae: 0.0405\n",
            "Epoch 3/30\n",
            "\u001b[1m269/269\u001b[0m \u001b[32m━━━━━━━━━━━━━━━━━━━━\u001b[0m\u001b[37m\u001b[0m \u001b[1m1s\u001b[0m 3ms/step - loss: 0.3158 - mae: 0.0290 - val_loss: 0.2048 - val_mae: 0.0407\n",
            "Epoch 4/30\n",
            "\u001b[1m269/269\u001b[0m \u001b[32m━━━━━━━━━━━━━━━━━━━━\u001b[0m\u001b[37m\u001b[0m \u001b[1m1s\u001b[0m 3ms/step - loss: 0.1726 - mae: 0.0270 - val_loss: 0.1185 - val_mae: 0.0409\n",
            "Epoch 5/30\n",
            "\u001b[1m269/269\u001b[0m \u001b[32m━━━━━━━━━━━━━━━━━━━━\u001b[0m\u001b[37m\u001b[0m \u001b[1m2s\u001b[0m 5ms/step - loss: 0.0980 - mae: 0.0257 - val_loss: 0.0719 - val_mae: 0.0423\n",
            "Epoch 6/30\n",
            "\u001b[1m269/269\u001b[0m \u001b[32m━━━━━━━━━━━━━━━━━━━━\u001b[0m\u001b[37m\u001b[0m \u001b[1m1s\u001b[0m 4ms/step - loss: 0.0570 - mae: 0.0237 - val_loss: 0.0461 - val_mae: 0.0423\n",
            "Epoch 7/30\n",
            "\u001b[1m269/269\u001b[0m \u001b[32m━━━━━━━━━━━━━━━━━━━━\u001b[0m\u001b[37m\u001b[0m \u001b[1m1s\u001b[0m 4ms/step - loss: 0.0350 - mae: 0.0239 - val_loss: 0.0315 - val_mae: 0.0428\n",
            "Epoch 8/30\n",
            "\u001b[1m269/269\u001b[0m \u001b[32m━━━━━━━━━━━━━━━━━━━━\u001b[0m\u001b[37m\u001b[0m \u001b[1m1s\u001b[0m 3ms/step - loss: 0.0225 - mae: 0.0250 - val_loss: 0.0232 - val_mae: 0.0410\n",
            "Epoch 9/30\n",
            "\u001b[1m269/269\u001b[0m \u001b[32m━━━━━━━━━━━━━━━━━━━━\u001b[0m\u001b[37m\u001b[0m \u001b[1m1s\u001b[0m 3ms/step - loss: 0.0148 - mae: 0.0240 - val_loss: 0.0184 - val_mae: 0.0411\n",
            "Epoch 10/30\n",
            "\u001b[1m269/269\u001b[0m \u001b[32m━━━━━━━━━━━━━━━━━━━━\u001b[0m\u001b[37m\u001b[0m \u001b[1m1s\u001b[0m 3ms/step - loss: 0.0107 - mae: 0.0247 - val_loss: 0.0156 - val_mae: 0.0397\n",
            "Epoch 11/30\n",
            "\u001b[1m269/269\u001b[0m \u001b[32m━━━━━━━━━━━━━━━━━━━━\u001b[0m\u001b[37m\u001b[0m \u001b[1m1s\u001b[0m 3ms/step - loss: 0.0076 - mae: 0.0224 - val_loss: 0.0139 - val_mae: 0.0414\n",
            "Epoch 12/30\n",
            "\u001b[1m269/269\u001b[0m \u001b[32m━━━━━━━━━━━━━━━━━━━━\u001b[0m\u001b[37m\u001b[0m \u001b[1m1s\u001b[0m 3ms/step - loss: 0.0066 - mae: 0.0237 - val_loss: 0.0128 - val_mae: 0.0431\n",
            "Epoch 13/30\n",
            "\u001b[1m269/269\u001b[0m \u001b[32m━━━━━━━━━━━━━━━━━━━━\u001b[0m\u001b[37m\u001b[0m \u001b[1m1s\u001b[0m 3ms/step - loss: 0.0059 - mae: 0.0252 - val_loss: 0.0125 - val_mae: 0.0391\n",
            "Epoch 14/30\n",
            "\u001b[1m269/269\u001b[0m \u001b[32m━━━━━━━━━━━━━━━━━━━━\u001b[0m\u001b[37m\u001b[0m \u001b[1m1s\u001b[0m 3ms/step - loss: 0.0052 - mae: 0.0233 - val_loss: 0.0121 - val_mae: 0.0409\n",
            "Epoch 15/30\n",
            "\u001b[1m269/269\u001b[0m \u001b[32m━━━━━━━━━━━━━━━━━━━━\u001b[0m\u001b[37m\u001b[0m \u001b[1m1s\u001b[0m 3ms/step - loss: 0.0042 - mae: 0.0220 - val_loss: 0.0119 - val_mae: 0.0412\n",
            "Epoch 16/30\n",
            "\u001b[1m269/269\u001b[0m \u001b[32m━━━━━━━━━━━━━━━━━━━━\u001b[0m\u001b[37m\u001b[0m \u001b[1m1s\u001b[0m 3ms/step - loss: 0.0055 - mae: 0.0255 - val_loss: 0.0118 - val_mae: 0.0404\n",
            "Epoch 17/30\n",
            "\u001b[1m269/269\u001b[0m \u001b[32m━━━━━━━━━━━━━━━━━━━━\u001b[0m\u001b[37m\u001b[0m \u001b[1m1s\u001b[0m 4ms/step - loss: 0.0045 - mae: 0.0234 - val_loss: 0.0115 - val_mae: 0.0439\n",
            "Epoch 18/30\n",
            "\u001b[1m269/269\u001b[0m \u001b[32m━━━━━━━━━━━━━━━━━━━━\u001b[0m\u001b[37m\u001b[0m \u001b[1m1s\u001b[0m 4ms/step - loss: 0.0045 - mae: 0.0236 - val_loss: 0.0116 - val_mae: 0.0418\n",
            "Epoch 19/30\n",
            "\u001b[1m269/269\u001b[0m \u001b[32m━━━━━━━━━━━━━━━━━━━━\u001b[0m\u001b[37m\u001b[0m \u001b[1m1s\u001b[0m 3ms/step - loss: 0.0041 - mae: 0.0225 - val_loss: 0.0116 - val_mae: 0.0409\n",
            "Epoch 20/30\n",
            "\u001b[1m269/269\u001b[0m \u001b[32m━━━━━━━━━━━━━━━━━━━━\u001b[0m\u001b[37m\u001b[0m \u001b[1m1s\u001b[0m 3ms/step - loss: 0.0049 - mae: 0.0237 - val_loss: 0.0116 - val_mae: 0.0419\n",
            "Epoch 21/30\n",
            "\u001b[1m269/269\u001b[0m \u001b[32m━━━━━━━━━━━━━━━━━━━━\u001b[0m\u001b[37m\u001b[0m \u001b[1m1s\u001b[0m 3ms/step - loss: 0.0053 - mae: 0.0256 - val_loss: 0.0116 - val_mae: 0.0409\n",
            "Epoch 22/30\n",
            "\u001b[1m269/269\u001b[0m \u001b[32m━━━━━━━━━━━━━━━━━━━━\u001b[0m\u001b[37m\u001b[0m \u001b[1m1s\u001b[0m 3ms/step - loss: 0.0042 - mae: 0.0232 - val_loss: 0.0117 - val_mae: 0.0404\n"
          ]
        }
      ]
    },
    {
      "cell_type": "code",
      "source": [
        "plot_training(history)"
      ],
      "metadata": {
        "id": "n2C-MEwL2lE1",
        "colab": {
          "base_uri": "https://localhost:8080/",
          "height": 564
        },
        "outputId": "5aa86fe6-2a76-42b6-c282-fd929e837f0b"
      },
      "execution_count": null,
      "outputs": [
        {
          "output_type": "display_data",
          "data": {
            "text/plain": [
              "<Figure size 1000x600 with 1 Axes>"
            ],
            "image/png": "[encoded data removed]"
          },
          "metadata": {}
        }
      ]
    },
    {
      "cell_type": "markdown",
      "source": [
        "Evaluate"
      ],
      "metadata": {
        "id": "Y14p-l0H2v4t"
      }
    },
    {
      "cell_type": "code",
      "source": [
        "loss, mae = model.evaluate(X, y, verbose=0)\n",
        "print(f\"\\nModel Evaluation:\\n - Loss (MSE): {loss:.4f}\\n - MAE: {mae:.4f}\")"
      ],
      "metadata": {
        "id": "VvaGmYy42wju",
        "colab": {
          "base_uri": "https://localhost:8080/"
        },
        "outputId": "6f1fa20d-612d-4292-f4fd-eb1374c0521f"
      },
      "execution_count": null,
      "outputs": [
        {
          "output_type": "stream",
          "name": "stdout",
          "text": [
            "\n",
            "Model Evaluation:\n",
            " - Loss (MSE): 0.0061\n",
            " - MAE: 0.0300\n"
          ]
        }
      ]
    },
    {
      "cell_type": "markdown",
      "source": [
        "Saved The model to next Progress Deployment"
      ],
      "metadata": {
        "id": "L6uqS37VdUkq"
      }
    },
    {
      "cell_type": "code",
      "source": [
        "# Save the trained model\n",
        "model.save('budget_suggestion_model.keras')\n",
        "\n",
        "# Save preprocessors\n",
        "with open('label_encoder.pkl', 'wb') as f:\n",
        "    pickle.dump(le_category, f)\n",
        "\n",
        "with open('scaler.pkl', 'wb') as f:\n",
        "    pickle.dump(scaler, f)\n",
        "\n",
        "print(\"Model and preprocessors saved successfully.\")\n"
      ],
      "metadata": {
        "id": "7y1QbQKp4Gm-",
        "colab": {
          "base_uri": "https://localhost:8080/"
        },
        "outputId": "c8d38463-3777-4be8-9959-4a4f5b386b1b"
      },
      "execution_count": null,
      "outputs": [
        {
          "output_type": "stream",
          "name": "stdout",
          "text": [
            "Model and preprocessors saved successfully.\n"
          ]
        }
      ]
    },
    {
      "cell_type": "markdown",
      "source": [
        "# Result Recommendation Budgeting"
      ],
      "metadata": {
        "id": "tzj1yYIH44d2"
      }
    },
    {
      "cell_type": "code",
      "source": [
        "#Test Generate Function Recommendation in Model.py\n",
        "# Total Expense * each category percent for total Expense they do\n",
        "# For Example Total Expense User_1 in period 3 month = 3.500.000\n",
        "# and for each category he have 3 category did he use in transaction in 3 month period\n",
        "# Food = 39.56% transport = 31.56 others = 28.88 and will do recommendation each persent * total expense\n",
        "# and in the next the budgeting will different depend history he doing in transactions.\n",
        "def generate_recommendations(data, user_id_col='user_id', categories_col='category_encoded', amount_col='amount', le_category=None):\n",
        "    \"\"\"\n",
        "    Generate dynamic budget recommendations based on user spending patterns over all available months.\n",
        "    \"\"\"\n",
        "    # Group data by user and category to sum expenses\n",
        "    user_expenses = data.groupby([user_id_col, categories_col])[amount_col].sum().reset_index()\n",
        "\n",
        "    # Calculate total expenses per user\n",
        "    total_expenses = user_expenses.groupby(user_id_col)[amount_col].sum()\n",
        "\n",
        "    recommendations = {}\n",
        "    for user, total in total_expenses.items():\n",
        "        # User specific data\n",
        "        user_data = user_expenses[user_expenses[user_id_col] == user]\n",
        "\n",
        "        # Months of data available for the user\n",
        "        num_months = data[data[user_id_col] == user]['month'].nunique()\n",
        "\n",
        "        # Calculate average monthly expenses\n",
        "        monthly_average = total / num_months if num_months else 0\n",
        "\n",
        "        # Calculate category distribution and budget recommendation\n",
        "        category_distribution = user_data.set_index(categories_col)[amount_col] / total\n",
        "        budget_recommendation = {\n",
        "            le_category.inverse_transform([int(category)])[0]: round(percent * monthly_average, 2)\n",
        "            for category, percent in category_distribution.items()\n",
        "        }\n",
        "        recommendations[user] = budget_recommendation\n",
        "\n",
        "    return recommendations"
      ],
      "metadata": {
        "id": "pNWX8_Y05s4W"
      },
      "execution_count": null,
      "outputs": []
    },
    {
      "cell_type": "code",
      "source": [
        "# Example of using this function\n",
        "# Call by user_id\n",
        "budget_recommendations = generate_recommendations(filtered_data,\n",
        "                                                  user_id_col='user_id',\n",
        "                                                  categories_col='category_encoded',\n",
        "                                                  amount_col='amount',\n",
        "                                                  le_category=le_category)\n",
        "\n",
        "print(\"Budget Recommendations:\")\n",
        "print(budget_recommendations)"
      ],
      "metadata": {
        "id": "U9PGBzMA473u",
        "colab": {
          "base_uri": "https://localhost:8080/"
        },
        "outputId": "1b0bb0c1-bfec-4f6e-bb1d-91ad985e76f7"
      },
      "execution_count": null,
      "outputs": [
        {
          "output_type": "stream",
          "name": "stdout",
          "text": [
            "Budget Recommendations:\n",
            "{'User_1': {'Digital': 52000.0, 'Food & Drink': 600000.0, 'Transportation': 396666.67}, 'User_10': {'Digital': 50000.0, 'Entertainment': 317833.33, 'Food & Drink': 1038500.0, 'Transportation': 296666.67, 'Utilities': 300000.0}, 'User_11': {'Education': 25000.0, 'Food & Drink': 456666.67, 'Transportation': 540000.0}, 'User_12': {'Education': 185000.0, 'Food & Drink': 175666.67, 'Transportation': 52000.0}, 'User_13': {'Education': 120000.0, 'Food & Drink': 1120333.33, 'Transportation': 226666.67}, 'User_14': {'Food & Drink': 1765000.0, 'Transportation': 216666.67, 'Utilities': 200000.0}, 'User_15': {'Food & Drink': 2474333.33, 'Health': 223000.0, 'Transportation': 373666.67, 'Utilities': 328000.0}, 'User_16': {'Food & Drink': 2052333.33, 'Health': 500000.0, 'Transportation': 516666.67, 'Utilities': 170333.33}, 'User_17': {'Food & Drink': 1649000.0, 'Health': 300000.0, 'Transportation': 516666.67, 'Utilities': 95000.0}, 'User_18': {'Education': 2000000.0, 'Food & Drink': 6758000.0, 'Transportation': 500000.0, 'Utilities': 29871398.0}, 'User_19': {'Entertainment': 1371666.67, 'Food & Drink': 2005333.33, 'Transportation': 266666.67}, 'User_2': {'Food & Drink': 200333.33, 'Transportation': 84000.0}, 'User_20': {'Digital': 215000.0, 'Entertainment': 2781000.0, 'Food & Drink': 4418333.33, 'Health': 157000.0, 'Transportation': 272666.67, 'Utilities': 2637666.67}, 'User_21': {'Education': 1132833.33, 'Food & Drink': 3163500.0, 'Transportation': 338000.0}, 'User_22': {'Education': 344500.0, 'Food & Drink': 3301166.67, 'Transportation': 569833.33}, 'User_23': {'Education': 568500.0, 'Food & Drink': 3521666.67, 'Transportation': 278666.67}, 'User_24': {'Education': 287500.0, 'Food & Drink': 3059333.33, 'Transportation': 357666.67}, 'User_25': {'Education': 562000.0, 'Food & Drink': 3297500.0, 'Transportation': 504833.33}, 'User_26': {'Education': 345000.0, 'Food & Drink': 3361166.67, 'Transportation': 407000.0}, 'User_27': {'Education': 111500.0, 'Food & Drink': 2812166.67, 'Transportation': 550833.33}, 'User_28': {'Education': 563166.67, 'Food & Drink': 3223333.33, 'Transportation': 879500.0}, 'User_29': {'Education': 519500.0, 'Food & Drink': 3346666.67, 'Transportation': 870500.0}, 'User_3': {'Entertainment': 32333.33, 'Food & Drink': 7620166.67, 'Health': 66666.67, 'Others': 799000.0, 'Vehicle': 190000.0}, 'User_30': {'Education': 540833.33, 'Food & Drink': 2811500.0, 'Transportation': 220000.0}, 'User_31': {'Education': 313333.33, 'Entertainment': 989500.0, 'Food & Drink': 1794333.33, 'Health': 1424333.33, 'Others': 503000.0, 'Transportation': 1001000.0}, 'User_32': {'Education': 1287166.67, 'Entertainment': 582000.0, 'Food & Drink': 1623500.0, 'Health': 514666.67, 'Others': 473333.33, 'Transportation': 880833.33}, 'User_33': {'Education': 939833.33, 'Entertainment': 478666.67, 'Food & Drink': 949333.33, 'Health': 923333.33, 'Others': 381500.0, 'Transportation': 558000.0}, 'User_34': {'Education': 301333.33, 'Entertainment': 761000.0, 'Food & Drink': 872333.33, 'Health': 1355666.67, 'Others': 440500.0, 'Transportation': 678000.0}, 'User_35': {'Education': 502166.67, 'Entertainment': 439166.67, 'Food & Drink': 1102666.67, 'Health': 907833.33, 'Others': 845000.0, 'Transportation': 486666.67}, 'User_36': {'Education': 1063166.67, 'Entertainment': 560333.33, 'Food & Drink': 609333.33, 'Health': 524333.33, 'Others': 634000.0, 'Transportation': 948500.0}, 'User_37': {'Education': 851166.67, 'Entertainment': 584500.0, 'Food & Drink': 944500.0, 'Health': 819666.67, 'Others': 606166.67, 'Transportation': 527333.33}, 'User_38': {'Education': 913000.0, 'Entertainment': 782833.33, 'Food & Drink': 958166.67, 'Health': 1027833.33, 'Others': 648166.67, 'Transportation': 525833.33}, 'User_39': {'Education': 755000.0, 'Entertainment': 946333.33, 'Food & Drink': 755500.0, 'Health': 875000.0, 'Others': 331666.67, 'Transportation': 647833.33}, 'User_4': {'Digital': 215000.0, 'Entertainment': 62500.0, 'Food & Drink': 4522000.0, 'Health': 266666.67, 'Others': 881666.67, 'Utilities': 583333.33, 'Vehicle': 254666.67}, 'User_40': {'Education': 1115500.0, 'Entertainment': 781333.33, 'Food & Drink': 761000.0, 'Health': 859333.33, 'Others': 380666.67, 'Transportation': 757333.33}, 'User_41': {'Education': 2216333.33, 'Entertainment': 2583666.67, 'Food & Drink': 4701666.67, 'Health': 5758666.67, 'Others': 1512000.0, 'Transportation': 4606000.0}, 'User_42': {'Education': 8966666.67, 'Entertainment': 2823666.67, 'Food & Drink': 10188000.0, 'Health': 2906666.67, 'Others': 4054000.0, 'Transportation': 3819333.33}, 'User_43': {'Education': 9549000.0, 'Entertainment': 7676666.67, 'Food & Drink': 2948000.0, 'Health': 9605333.33, 'Others': 7236000.0, 'Transportation': 5040333.33}, 'User_44': {'Education': 6962666.67, 'Entertainment': 8523333.33, 'Food & Drink': 1402333.33, 'Health': 2971666.67, 'Others': 4193000.0, 'Transportation': 5730333.33}, 'User_45': {'Education': 1105333.33, 'Entertainment': 2930333.33, 'Food & Drink': 5246666.67, 'Health': 9583000.0, 'Others': 4396000.0, 'Transportation': 2854333.33}, 'User_46': {'Education': 5248333.33, 'Entertainment': 3338666.67, 'Food & Drink': 1589666.67, 'Health': 2967000.0, 'Others': 2534333.33, 'Transportation': 5709000.0}, 'User_47': {'Education': 4405333.33, 'Entertainment': 6810666.67, 'Food & Drink': 6259666.67, 'Health': 2969333.33, 'Others': 2425333.33, 'Transportation': 7772333.33}, 'User_48': {'Education': 3517000.0, 'Entertainment': 2042333.33, 'Food & Drink': 1449333.33, 'Health': 4886000.0, 'Others': 6189666.67, 'Transportation': 5854000.0}, 'User_49': {'Education': 6112333.33, 'Entertainment': 2378333.33, 'Food & Drink': 4560666.67, 'Health': 5591333.33, 'Others': 12758000.0, 'Transportation': 1192666.67}, 'User_5': {'Digital': 100000.0, 'Entertainment': 282166.67, 'Food & Drink': 359833.33, 'Health': 150000.0, 'Others': 500000.0, 'Transportation': 800000.0, 'Utilities': 866666.67}, 'User_50': {'Education': 3317666.67, 'Entertainment': 11539333.33, 'Food & Drink': 5252666.67, 'Health': 1194666.67, 'Others': 1412333.33, 'Transportation': 5038666.67}, 'User_51': {'Education': 1881333.33, 'Entertainment': 6043333.33, 'Food & Drink': 3291333.33, 'Health': 3856000.0, 'Others': 5930333.33, 'Transportation': 3944000.0}, 'User_52': {'Education': 3821000.0, 'Entertainment': 2444333.33, 'Food & Drink': 4462000.0, 'Health': 7007666.67, 'Others': 2736333.33, 'Transportation': 1741000.0}, 'User_53': {'Education': 4779666.67, 'Entertainment': 6473000.0, 'Food & Drink': 2564666.67, 'Health': 3759333.33, 'Others': 5179666.67, 'Transportation': 6865666.67}, 'User_54': {'Education': 3202666.67, 'Entertainment': 2992333.33, 'Food & Drink': 4923333.33, 'Health': 334333.33, 'Others': 7170333.33, 'Transportation': 3785333.33}, 'User_55': {'Education': 3909333.33, 'Entertainment': 3171333.33, 'Food & Drink': 5033666.67, 'Health': 3011333.33, 'Others': 5673000.0, 'Transportation': 2004333.33}, 'User_56': {'Education': 3553666.67, 'Entertainment': 4353333.33, 'Food & Drink': 8310333.33, 'Health': 2048333.33, 'Others': 8612333.33, 'Transportation': 501000.0}, 'User_57': {'Education': 5452333.33, 'Entertainment': 3104000.0, 'Food & Drink': 6122333.33, 'Health': 6273666.67, 'Others': 4158333.33, 'Transportation': 1451666.67}, 'User_58': {'Education': 3441000.0, 'Entertainment': 6965666.67, 'Food & Drink': 6233000.0, 'Health': 8127666.67, 'Others': 5920666.67, 'Transportation': 2648000.0}, 'User_59': {'Education': 2083333.33, 'Entertainment': 8162333.33, 'Food & Drink': 4818000.0, 'Health': 2567333.33, 'Others': 2986000.0, 'Transportation': 2714000.0}, 'User_6': {'Digital': 120000.0, 'Entertainment': 962960.33, 'Food & Drink': 897918.67, 'Health': 180000.0, 'Others': 500000.0, 'Transportation': 826666.67, 'Utilities': 1200000.0}, 'User_60': {'Education': 2766000.0, 'Entertainment': 1852333.33, 'Food & Drink': 4973333.33, 'Health': 2187000.0, 'Others': 2764666.67, 'Transportation': 6962666.67}, 'User_7': {'Digital': 200000.0, 'Entertainment': 496666.67, 'Food & Drink': 1547166.67, 'Health': 300000.0, 'Others': 1000000.0, 'Transportation': 300000.0, 'Utilities': 1500000.0}, 'User_8': {'Digital': 150000.0, 'Food & Drink': 1353333.33, 'Health': 250000.0, 'Others': 700000.0, 'Transportation': 144000.0, 'Utilities': 1200000.0}, 'User_9': {'Entertainment': 134166.67, 'Food & Drink': 1524000.0, 'Transportation': 67000.0, 'Utilities': 200000.0}}\n"
          ]
        }
      ]
    },
    {
      "cell_type": "code",
      "source": [
        "# Convert recommendations to a DataFrame for visualization\n",
        "recommendations_list = []\n",
        "for user, categories in budget_recommendations.items():\n",
        "    for category, budget in categories.items():\n",
        "        recommendations_list.append({'User': user, 'Category': category, 'Budget Recommendation': budget})\n",
        "\n",
        "recommendations_df = pd.DataFrame(recommendations_list)\n",
        "print(\"Budget Recommendations:\")\n",
        "print(recommendations_df)"
      ],
      "metadata": {
        "id": "ueA8HOV5UrGb",
        "colab": {
          "base_uri": "https://localhost:8080/"
        },
        "outputId": "13dc9750-48a8-4afb-a5d1-6b88b22b6f94"
      },
      "execution_count": null,
      "outputs": [
        {
          "output_type": "stream",
          "name": "stdout",
          "text": [
            "Budget Recommendations:\n",
            "        User        Category  Budget Recommendation\n",
            "0     User_1         Digital               52000.00\n",
            "1     User_1    Food & Drink              600000.00\n",
            "2     User_1  Transportation              396666.67\n",
            "3    User_10         Digital               50000.00\n",
            "4    User_10   Entertainment              317833.33\n",
            "..       ...             ...                    ...\n",
            "295   User_8       Utilities             1200000.00\n",
            "296   User_9   Entertainment              134166.67\n",
            "297   User_9    Food & Drink             1524000.00\n",
            "298   User_9  Transportation               67000.00\n",
            "299   User_9       Utilities              200000.00\n",
            "\n",
            "[300 rows x 3 columns]\n"
          ]
        }
      ]
    },
    {
      "cell_type": "code",
      "source": [
        "# Filter recommendations for a specific user\n",
        "user_to_display = 'User_59'  # Ganti dengan user yang ingin ditampilkan\n",
        "filtered_recommendations_df = recommendations_df[recommendations_df['User'] == user_to_display]\n",
        "\n",
        "# Display filtered recommendations\n",
        "print(f\"Budget Recommendations for {user_to_display}:\")\n",
        "print(filtered_recommendations_df)\n"
      ],
      "metadata": {
        "id": "2_PTkKV9_Haf",
        "colab": {
          "base_uri": "https://localhost:8080/"
        },
        "outputId": "a8653fe4-331b-4a58-af83-e29501d91ae1"
      },
      "execution_count": null,
      "outputs": [
        {
          "output_type": "stream",
          "name": "stdout",
          "text": [
            "Budget Recommendations for User_59:\n",
            "        User        Category  Budget Recommendation\n",
            "264  User_59       Education             2083333.33\n",
            "265  User_59   Entertainment             8162333.33\n",
            "266  User_59    Food & Drink             4818000.00\n",
            "267  User_59          Health             2567333.33\n",
            "268  User_59          Others             2986000.00\n",
            "269  User_59  Transportation             2714000.00\n"
          ]
        }
      ]
    },
    {
      "cell_type": "code",
      "source": [
        "import plotly.graph_objects as go\n",
        "\n",
        "# Buat tabel dengan Plotly\n",
        "def plotly_table(dataframe):\n",
        "    header_values = list(dataframe.columns)\n",
        "    cell_values = [dataframe[col].tolist() for col in dataframe.columns]\n",
        "\n",
        "    fig = go.Figure(data=[go.Table(\n",
        "        header=dict(\n",
        "            values=header_values,\n",
        "            fill_color='paleturquoise',\n",
        "            align='left'\n",
        "        ),\n",
        "        cells=dict(\n",
        "            values=cell_values,\n",
        "            fill_color='lavender',\n",
        "            align='left')\n",
        "    )])\n",
        "\n",
        "    fig.show()\n",
        "\n",
        "# Panggil fungsi dengan DataFrame kamu\n",
        "plotly_table(recommendations_df)"
      ],
      "metadata": {
        "id": "T61OFTZ9ZdeK",
        "colab": {
          "base_uri": "https://localhost:8080/",
          "height": 542
        },
        "outputId": "309cca96-f98e-4e86-e123-6904c3a465f3"
      },
      "execution_count": null,
      "outputs": [
        {
          "output_type": "display_data",
          "data": {
            "text/html": [
              "<html>\n",
              "<head><meta charset=\"utf-8\" /></head>\n",
              "<body>\n",
              "    <div>            <script src=\"https://cdnjs.cloudflare.com/ajax/libs/mathjax/2.7.5/MathJax.js?config=TeX-AMS-MML_SVG\"></script><script type=\"text/javascript\">if (window.MathJax && window.MathJax.Hub && window.MathJax.Hub.Config) {window.MathJax.Hub.Config({SVG: {font: \"STIX-Web\"}});}</script>                <script type=\"text/javascript\">window.PlotlyConfig = {MathJaxConfig: 'local'};</script>\n",
              "        <script charset=\"utf-8\" src=\"https://cdn.plot.ly/plotly-2.35.2.min.js\"></script>                <div id=\"4dc30243-2ce3-41c8-870d-3ee767d61e21\" class=\"plotly-graph-div\" style=\"height:525px; width:100%;\"></div>            <script type=\"text/javascript\">                                    window.PLOTLYENV=window.PLOTLYENV || {};                                    if (document.getElementById(\"4dc30243-2ce3-41c8-870d-3ee767d61e21\")) {                    Plotly.newPlot(                        \"4dc30243-2ce3-41c8-870d-3ee767d61e21\",                        [{\"cells\":{\"align\":\"left\",\"fill\":{\"color\":\"lavender\"},\"values\":[[\"User_1\",\"User_1\",\"User_1\",\"User_10\",\"User_10\",\"User_10\",\"User_10\",\"User_10\",\"User_11\",\"User_11\",\"User_11\",\"User_12\",\"User_12\",\"User_12\",\"User_13\",\"User_13\",\"User_13\",\"User_14\",\"User_14\",\"User_14\",\"User_15\",\"User_15\",\"User_15\",\"User_15\",\"User_16\",\"User_16\",\"User_16\",\"User_16\",\"User_17\",\"User_17\",\"User_17\",\"User_17\",\"User_18\",\"User_18\",\"User_18\",\"User_18\",\"User_19\",\"User_19\",\"User_19\",\"User_2\",\"User_2\",\"User_20\",\"User_20\",\"User_20\",\"User_20\",\"User_20\",\"User_20\",\"User_21\",\"User_21\",\"User_21\",\"User_22\",\"User_22\",\"User_22\",\"User_23\",\"User_23\",\"User_23\",\"User_24\",\"User_24\",\"User_24\",\"User_25\",\"User_25\",\"User_25\",\"User_26\",\"User_26\",\"User_26\",\"User_27\",\"User_27\",\"User_27\",\"User_28\",\"User_28\",\"User_28\",\"User_29\",\"User_29\",\"User_29\",\"User_3\",\"User_3\",\"User_3\",\"User_3\",\"User_3\",\"User_30\",\"User_30\",\"User_30\",\"User_31\",\"User_31\",\"User_31\",\"User_31\",\"User_31\",\"User_31\",\"User_32\",\"User_32\",\"User_32\",\"User_32\",\"User_32\",\"User_32\",\"User_33\",\"User_33\",\"User_33\",\"User_33\",\"User_33\",\"User_33\",\"User_34\",\"User_34\",\"User_34\",\"User_34\",\"User_34\",\"User_34\",\"User_35\",\"User_35\",\"User_35\",\"User_35\",\"User_35\",\"User_35\",\"User_36\",\"User_36\",\"User_36\",\"User_36\",\"User_36\",\"User_36\",\"User_37\",\"User_37\",\"User_37\",\"User_37\",\"User_37\",\"User_37\",\"User_38\",\"User_38\",\"User_38\",\"User_38\",\"User_38\",\"User_38\",\"User_39\",\"User_39\",\"User_39\",\"User_39\",\"User_39\",\"User_39\",\"User_4\",\"User_4\",\"User_4\",\"User_4\",\"User_4\",\"User_4\",\"User_4\",\"User_40\",\"User_40\",\"User_40\",\"User_40\",\"User_40\",\"User_40\",\"User_41\",\"User_41\",\"User_41\",\"User_41\",\"User_41\",\"User_41\",\"User_42\",\"User_42\",\"User_42\",\"User_42\",\"User_42\",\"User_42\",\"User_43\",\"User_43\",\"User_43\",\"User_43\",\"User_43\",\"User_43\",\"User_44\",\"User_44\",\"User_44\",\"User_44\",\"User_44\",\"User_44\",\"User_45\",\"User_45\",\"User_45\",\"User_45\",\"User_45\",\"User_45\",\"User_46\",\"User_46\",\"User_46\",\"User_46\",\"User_46\",\"User_46\",\"User_47\",\"User_47\",\"User_47\",\"User_47\",\"User_47\",\"User_47\",\"User_48\",\"User_48\",\"User_48\",\"User_48\",\"User_48\",\"User_48\",\"User_49\",\"User_49\",\"User_49\",\"User_49\",\"User_49\",\"User_49\",\"User_5\",\"User_5\",\"User_5\",\"User_5\",\"User_5\",\"User_5\",\"User_5\",\"User_50\",\"User_50\",\"User_50\",\"User_50\",\"User_50\",\"User_50\",\"User_51\",\"User_51\",\"User_51\",\"User_51\",\"User_51\",\"User_51\",\"User_52\",\"User_52\",\"User_52\",\"User_52\",\"User_52\",\"User_52\",\"User_53\",\"User_53\",\"User_53\",\"User_53\",\"User_53\",\"User_53\",\"User_54\",\"User_54\",\"User_54\",\"User_54\",\"User_54\",\"User_54\",\"User_55\",\"User_55\",\"User_55\",\"User_55\",\"User_55\",\"User_55\",\"User_56\",\"User_56\",\"User_56\",\"User_56\",\"User_56\",\"User_56\",\"User_57\",\"User_57\",\"User_57\",\"User_57\",\"User_57\",\"User_57\",\"User_58\",\"User_58\",\"User_58\",\"User_58\",\"User_58\",\"User_58\",\"User_59\",\"User_59\",\"User_59\",\"User_59\",\"User_59\",\"User_59\",\"User_6\",\"User_6\",\"User_6\",\"User_6\",\"User_6\",\"User_6\",\"User_6\",\"User_60\",\"User_60\",\"User_60\",\"User_60\",\"User_60\",\"User_60\",\"User_7\",\"User_7\",\"User_7\",\"User_7\",\"User_7\",\"User_7\",\"User_7\",\"User_8\",\"User_8\",\"User_8\",\"User_8\",\"User_8\",\"User_8\",\"User_9\",\"User_9\",\"User_9\",\"User_9\"],[\"Digital\",\"Food & Drink\",\"Transportation\",\"Digital\",\"Entertainment\",\"Food & Drink\",\"Transportation\",\"Utilities\",\"Education\",\"Food & Drink\",\"Transportation\",\"Education\",\"Food & Drink\",\"Transportation\",\"Education\",\"Food & Drink\",\"Transportation\",\"Food & Drink\",\"Transportation\",\"Utilities\",\"Food & Drink\",\"Health\",\"Transportation\",\"Utilities\",\"Food & Drink\",\"Health\",\"Transportation\",\"Utilities\",\"Food & Drink\",\"Health\",\"Transportation\",\"Utilities\",\"Education\",\"Food & Drink\",\"Transportation\",\"Utilities\",\"Entertainment\",\"Food & Drink\",\"Transportation\",\"Food & Drink\",\"Transportation\",\"Digital\",\"Entertainment\",\"Food & Drink\",\"Health\",\"Transportation\",\"Utilities\",\"Education\",\"Food & Drink\",\"Transportation\",\"Education\",\"Food & Drink\",\"Transportation\",\"Education\",\"Food & Drink\",\"Transportation\",\"Education\",\"Food & Drink\",\"Transportation\",\"Education\",\"Food & Drink\",\"Transportation\",\"Education\",\"Food & Drink\",\"Transportation\",\"Education\",\"Food & Drink\",\"Transportation\",\"Education\",\"Food & Drink\",\"Transportation\",\"Education\",\"Food & Drink\",\"Transportation\",\"Entertainment\",\"Food & Drink\",\"Health\",\"Others\",\"Vehicle\",\"Education\",\"Food & Drink\",\"Transportation\",\"Education\",\"Entertainment\",\"Food & Drink\",\"Health\",\"Others\",\"Transportation\",\"Education\",\"Entertainment\",\"Food & Drink\",\"Health\",\"Others\",\"Transportation\",\"Education\",\"Entertainment\",\"Food & Drink\",\"Health\",\"Others\",\"Transportation\",\"Education\",\"Entertainment\",\"Food & Drink\",\"Health\",\"Others\",\"Transportation\",\"Education\",\"Entertainment\",\"Food & Drink\",\"Health\",\"Others\",\"Transportation\",\"Education\",\"Entertainment\",\"Food & Drink\",\"Health\",\"Others\",\"Transportation\",\"Education\",\"Entertainment\",\"Food & Drink\",\"Health\",\"Others\",\"Transportation\",\"Education\",\"Entertainment\",\"Food & Drink\",\"Health\",\"Others\",\"Transportation\",\"Education\",\"Entertainment\",\"Food & Drink\",\"Health\",\"Others\",\"Transportation\",\"Digital\",\"Entertainment\",\"Food & Drink\",\"Health\",\"Others\",\"Utilities\",\"Vehicle\",\"Education\",\"Entertainment\",\"Food & Drink\",\"Health\",\"Others\",\"Transportation\",\"Education\",\"Entertainment\",\"Food & Drink\",\"Health\",\"Others\",\"Transportation\",\"Education\",\"Entertainment\",\"Food & Drink\",\"Health\",\"Others\",\"Transportation\",\"Education\",\"Entertainment\",\"Food & Drink\",\"Health\",\"Others\",\"Transportation\",\"Education\",\"Entertainment\",\"Food & Drink\",\"Health\",\"Others\",\"Transportation\",\"Education\",\"Entertainment\",\"Food & Drink\",\"Health\",\"Others\",\"Transportation\",\"Education\",\"Entertainment\",\"Food & Drink\",\"Health\",\"Others\",\"Transportation\",\"Education\",\"Entertainment\",\"Food & Drink\",\"Health\",\"Others\",\"Transportation\",\"Education\",\"Entertainment\",\"Food & Drink\",\"Health\",\"Others\",\"Transportation\",\"Education\",\"Entertainment\",\"Food & Drink\",\"Health\",\"Others\",\"Transportation\",\"Digital\",\"Entertainment\",\"Food & Drink\",\"Health\",\"Others\",\"Transportation\",\"Utilities\",\"Education\",\"Entertainment\",\"Food & Drink\",\"Health\",\"Others\",\"Transportation\",\"Education\",\"Entertainment\",\"Food & Drink\",\"Health\",\"Others\",\"Transportation\",\"Education\",\"Entertainment\",\"Food & Drink\",\"Health\",\"Others\",\"Transportation\",\"Education\",\"Entertainment\",\"Food & Drink\",\"Health\",\"Others\",\"Transportation\",\"Education\",\"Entertainment\",\"Food & Drink\",\"Health\",\"Others\",\"Transportation\",\"Education\",\"Entertainment\",\"Food & Drink\",\"Health\",\"Others\",\"Transportation\",\"Education\",\"Entertainment\",\"Food & Drink\",\"Health\",\"Others\",\"Transportation\",\"Education\",\"Entertainment\",\"Food & Drink\",\"Health\",\"Others\",\"Transportation\",\"Education\",\"Entertainment\",\"Food & Drink\",\"Health\",\"Others\",\"Transportation\",\"Education\",\"Entertainment\",\"Food & Drink\",\"Health\",\"Others\",\"Transportation\",\"Digital\",\"Entertainment\",\"Food & Drink\",\"Health\",\"Others\",\"Transportation\",\"Utilities\",\"Education\",\"Entertainment\",\"Food & Drink\",\"Health\",\"Others\",\"Transportation\",\"Digital\",\"Entertainment\",\"Food & Drink\",\"Health\",\"Others\",\"Transportation\",\"Utilities\",\"Digital\",\"Food & Drink\",\"Health\",\"Others\",\"Transportation\",\"Utilities\",\"Entertainment\",\"Food & Drink\",\"Transportation\",\"Utilities\"],[52000.0,600000.0,396666.67,50000.0,317833.33,1038500.0,296666.67,300000.0,25000.0,456666.67,540000.0,185000.0,175666.67,52000.0,120000.0,1120333.33,226666.67,1765000.0,216666.67,200000.0,2474333.33,223000.0,373666.67,328000.0,2052333.33,500000.0,516666.67,170333.33,1649000.0,300000.0,516666.67,95000.0,2000000.0,6758000.0,500000.0,29871398.0,1371666.67,2005333.33,266666.67,200333.33,84000.0,215000.0,2781000.0,4418333.33,157000.0,272666.67,2637666.67,1132833.33,3163500.0,338000.0,344500.0,3301166.67,569833.33,568500.0,3521666.67,278666.67,287500.0,3059333.33,357666.67,562000.0,3297500.0,504833.33,345000.0,3361166.67,407000.0,111500.0,2812166.67,550833.33,563166.67,3223333.33,879500.0,519500.0,3346666.67,870500.0,32333.33,7620166.67,66666.67,799000.0,190000.0,540833.33,2811500.0,220000.0,313333.33,989500.0,1794333.33,1424333.33,503000.0,1001000.0,1287166.67,582000.0,1623500.0,514666.67,473333.33,880833.33,939833.33,478666.67,949333.33,923333.33,381500.0,558000.0,301333.33,761000.0,872333.33,1355666.67,440500.0,678000.0,502166.67,439166.67,1102666.67,907833.33,845000.0,486666.67,1063166.67,560333.33,609333.33,524333.33,634000.0,948500.0,851166.67,584500.0,944500.0,819666.67,606166.67,527333.33,913000.0,782833.33,958166.67,1027833.33,648166.67,525833.33,755000.0,946333.33,755500.0,875000.0,331666.67,647833.33,215000.0,62500.0,4522000.0,266666.67,881666.67,583333.33,254666.67,1115500.0,781333.33,761000.0,859333.33,380666.67,757333.33,2216333.33,2583666.67,4701666.67,5758666.67,1512000.0,4606000.0,8966666.67,2823666.67,10188000.0,2906666.67,4054000.0,3819333.33,9549000.0,7676666.67,2948000.0,9605333.33,7236000.0,5040333.33,6962666.67,8523333.33,1402333.33,2971666.67,4193000.0,5730333.33,1105333.33,2930333.33,5246666.67,9583000.0,4396000.0,2854333.33,5248333.33,3338666.67,1589666.67,2967000.0,2534333.33,5709000.0,4405333.33,6810666.67,6259666.67,2969333.33,2425333.33,7772333.33,3517000.0,2042333.33,1449333.33,4886000.0,6189666.67,5854000.0,6112333.33,2378333.33,4560666.67,5591333.33,12758000.0,1192666.67,100000.0,282166.67,359833.33,150000.0,500000.0,800000.0,866666.67,3317666.67,11539333.33,5252666.67,1194666.67,1412333.33,5038666.67,1881333.33,6043333.33,3291333.33,3856000.0,5930333.33,3944000.0,3821000.0,2444333.33,4462000.0,7007666.67,2736333.33,1741000.0,4779666.67,6473000.0,2564666.67,3759333.33,5179666.67,6865666.67,3202666.67,2992333.33,4923333.33,334333.33,7170333.33,3785333.33,3909333.33,3171333.33,5033666.67,3011333.33,5673000.0,2004333.33,3553666.67,4353333.33,8310333.33,2048333.33,8612333.33,501000.0,5452333.33,3104000.0,6122333.33,6273666.67,4158333.33,1451666.67,3441000.0,6965666.67,6233000.0,8127666.67,5920666.67,2648000.0,2083333.33,8162333.33,4818000.0,2567333.33,2986000.0,2714000.0,120000.0,962960.33,897918.67,180000.0,500000.0,826666.67,1200000.0,2766000.0,1852333.33,4973333.33,2187000.0,2764666.67,6962666.67,200000.0,496666.67,1547166.67,300000.0,1000000.0,300000.0,1500000.0,150000.0,1353333.33,250000.0,700000.0,144000.0,1200000.0,134166.67,1524000.0,67000.0,200000.0]]},\"header\":{\"align\":\"left\",\"fill\":{\"color\":\"paleturquoise\"},\"values\":[\"User\",\"Category\",\"Budget Recommendation\"]},\"type\":\"table\"}],                        {\"template\":{\"data\":{\"histogram2dcontour\":[{\"type\":\"histogram2dcontour\",\"colorbar\":{\"outlinewidth\":0,\"ticks\":\"\"},\"colorscale\":[[0.0,\"#0d0887\"],[0.1111111111111111,\"#46039f\"],[0.2222222222222222,\"#7201a8\"],[0.3333333333333333,\"#9c179e\"],[0.4444444444444444,\"#bd3786\"],[0.5555555555555556,\"#d8576b\"],[0.6666666666666666,\"#ed7953\"],[0.7777777777777778,\"#fb9f3a\"],[0.8888888888888888,\"#fdca26\"],[1.0,\"#f0f921\"]]}],\"choropleth\":[{\"type\":\"choropleth\",\"colorbar\":{\"outlinewidth\":0,\"ticks\":\"\"}}],\"histogram2d\":[{\"type\":\"histogram2d\",\"colorbar\":{\"outlinewidth\":0,\"ticks\":\"\"},\"colorscale\":[[0.0,\"#0d0887\"],[0.1111111111111111,\"#46039f\"],[0.2222222222222222,\"#7201a8\"],[0.3333333333333333,\"#9c179e\"],[0.4444444444444444,\"#bd3786\"],[0.5555555555555556,\"#d8576b\"],[0.6666666666666666,\"#ed7953\"],[0.7777777777777778,\"#fb9f3a\"],[0.8888888888888888,\"#fdca26\"],[1.0,\"#f0f921\"]]}],\"heatmap\":[{\"type\":\"heatmap\",\"colorbar\":{\"outlinewidth\":0,\"ticks\":\"\"},\"colorscale\":[[0.0,\"#0d0887\"],[0.1111111111111111,\"#46039f\"],[0.2222222222222222,\"#7201a8\"],[0.3333333333333333,\"#9c179e\"],[0.4444444444444444,\"#bd3786\"],[0.5555555555555556,\"#d8576b\"],[0.6666666666666666,\"#ed7953\"],[0.7777777777777778,\"#fb9f3a\"],[0.8888888888888888,\"#fdca26\"],[1.0,\"#f0f921\"]]}],\"heatmapgl\":[{\"type\":\"heatmapgl\",\"colorbar\":{\"outlinewidth\":0,\"ticks\":\"\"},\"colorscale\":[[0.0,\"#0d0887\"],[0.1111111111111111,\"#46039f\"],[0.2222222222222222,\"#7201a8\"],[0.3333333333333333,\"#9c179e\"],[0.4444444444444444,\"#bd3786\"],[0.5555555555555556,\"#d8576b\"],[0.6666666666666666,\"#ed7953\"],[0.7777777777777778,\"#fb9f3a\"],[0.8888888888888888,\"#fdca26\"],[1.0,\"#f0f921\"]]}],\"contourcarpet\":[{\"type\":\"contourcarpet\",\"colorbar\":{\"outlinewidth\":0,\"ticks\":\"\"}}],\"contour\":[{\"type\":\"contour\",\"colorbar\":{\"outlinewidth\":0,\"ticks\":\"\"},\"colorscale\":[[0.0,\"#0d0887\"],[0.1111111111111111,\"#46039f\"],[0.2222222222222222,\"#7201a8\"],[0.3333333333333333,\"#9c179e\"],[0.4444444444444444,\"#bd3786\"],[0.5555555555555556,\"#d8576b\"],[0.6666666666666666,\"#ed7953\"],[0.7777777777777778,\"#fb9f3a\"],[0.8888888888888888,\"#fdca26\"],[1.0,\"#f0f921\"]]}],\"surface\":[{\"type\":\"surface\",\"colorbar\":{\"outlinewidth\":0,\"ticks\":\"\"},\"colorscale\":[[0.0,\"#0d0887\"],[0.1111111111111111,\"#46039f\"],[0.2222222222222222,\"#7201a8\"],[0.3333333333333333,\"#9c179e\"],[0.4444444444444444,\"#bd3786\"],[0.5555555555555556,\"#d8576b\"],[0.6666666666666666,\"#ed7953\"],[0.7777777777777778,\"#fb9f3a\"],[0.8888888888888888,\"#fdca26\"],[1.0,\"#f0f921\"]]}],\"mesh3d\":[{\"type\":\"mesh3d\",\"colorbar\":{\"outlinewidth\":0,\"ticks\":\"\"}}],\"scatter\":[{\"fillpattern\":{\"fillmode\":\"overlay\",\"size\":10,\"solidity\":0.2},\"type\":\"scatter\"}],\"parcoords\":[{\"type\":\"parcoords\",\"line\":{\"colorbar\":{\"outlinewidth\":0,\"ticks\":\"\"}}}],\"scatterpolargl\":[{\"type\":\"scatterpolargl\",\"marker\":{\"colorbar\":{\"outlinewidth\":0,\"ticks\":\"\"}}}],\"bar\":[{\"error_x\":{\"color\":\"#2a3f5f\"},\"error_y\":{\"color\":\"#2a3f5f\"},\"marker\":{\"line\":{\"color\":\"#E5ECF6\",\"width\":0.5},\"pattern\":{\"fillmode\":\"overlay\",\"size\":10,\"solidity\":0.2}},\"type\":\"bar\"}],\"scattergeo\":[{\"type\":\"scattergeo\",\"marker\":{\"colorbar\":{\"outlinewidth\":0,\"ticks\":\"\"}}}],\"scatterpolar\":[{\"type\":\"scatterpolar\",\"marker\":{\"colorbar\":{\"outlinewidth\":0,\"ticks\":\"\"}}}],\"histogram\":[{\"marker\":{\"pattern\":{\"fillmode\":\"overlay\",\"size\":10,\"solidity\":0.2}},\"type\":\"histogram\"}],\"scattergl\":[{\"type\":\"scattergl\",\"marker\":{\"colorbar\":{\"outlinewidth\":0,\"ticks\":\"\"}}}],\"scatter3d\":[{\"type\":\"scatter3d\",\"line\":{\"colorbar\":{\"outlinewidth\":0,\"ticks\":\"\"}},\"marker\":{\"colorbar\":{\"outlinewidth\":0,\"ticks\":\"\"}}}],\"scattermapbox\":[{\"type\":\"scattermapbox\",\"marker\":{\"colorbar\":{\"outlinewidth\":0,\"ticks\":\"\"}}}],\"scatterternary\":[{\"type\":\"scatterternary\",\"marker\":{\"colorbar\":{\"outlinewidth\":0,\"ticks\":\"\"}}}],\"scattercarpet\":[{\"type\":\"scattercarpet\",\"marker\":{\"colorbar\":{\"outlinewidth\":0,\"ticks\":\"\"}}}],\"carpet\":[{\"aaxis\":{\"endlinecolor\":\"#2a3f5f\",\"gridcolor\":\"white\",\"linecolor\":\"white\",\"minorgridcolor\":\"white\",\"startlinecolor\":\"#2a3f5f\"},\"baxis\":{\"endlinecolor\":\"#2a3f5f\",\"gridcolor\":\"white\",\"linecolor\":\"white\",\"minorgridcolor\":\"white\",\"startlinecolor\":\"#2a3f5f\"},\"type\":\"carpet\"}],\"table\":[{\"cells\":{\"fill\":{\"color\":\"#EBF0F8\"},\"line\":{\"color\":\"white\"}},\"header\":{\"fill\":{\"color\":\"#C8D4E3\"},\"line\":{\"color\":\"white\"}},\"type\":\"table\"}],\"barpolar\":[{\"marker\":{\"line\":{\"color\":\"#E5ECF6\",\"width\":0.5},\"pattern\":{\"fillmode\":\"overlay\",\"size\":10,\"solidity\":0.2}},\"type\":\"barpolar\"}],\"pie\":[{\"automargin\":true,\"type\":\"pie\"}]},\"layout\":{\"autotypenumbers\":\"strict\",\"colorway\":[\"#636efa\",\"#EF553B\",\"#00cc96\",\"#ab63fa\",\"#FFA15A\",\"#19d3f3\",\"#FF6692\",\"#B6E880\",\"#FF97FF\",\"#FECB52\"],\"font\":{\"color\":\"#2a3f5f\"},\"hovermode\":\"closest\",\"hoverlabel\":{\"align\":\"left\"},\"paper_bgcolor\":\"white\",\"plot_bgcolor\":\"#E5ECF6\",\"polar\":{\"bgcolor\":\"#E5ECF6\",\"angularaxis\":{\"gridcolor\":\"white\",\"linecolor\":\"white\",\"ticks\":\"\"},\"radialaxis\":{\"gridcolor\":\"white\",\"linecolor\":\"white\",\"ticks\":\"\"}},\"ternary\":{\"bgcolor\":\"#E5ECF6\",\"aaxis\":{\"gridcolor\":\"white\",\"linecolor\":\"white\",\"ticks\":\"\"},\"baxis\":{\"gridcolor\":\"white\",\"linecolor\":\"white\",\"ticks\":\"\"},\"caxis\":{\"gridcolor\":\"white\",\"linecolor\":\"white\",\"ticks\":\"\"}},\"coloraxis\":{\"colorbar\":{\"outlinewidth\":0,\"ticks\":\"\"}},\"colorscale\":{\"sequential\":[[0.0,\"#0d0887\"],[0.1111111111111111,\"#46039f\"],[0.2222222222222222,\"#7201a8\"],[0.3333333333333333,\"#9c179e\"],[0.4444444444444444,\"#bd3786\"],[0.5555555555555556,\"#d8576b\"],[0.6666666666666666,\"#ed7953\"],[0.7777777777777778,\"#fb9f3a\"],[0.8888888888888888,\"#fdca26\"],[1.0,\"#f0f921\"]],\"sequentialminus\":[[0.0,\"#0d0887\"],[0.1111111111111111,\"#46039f\"],[0.2222222222222222,\"#7201a8\"],[0.3333333333333333,\"#9c179e\"],[0.4444444444444444,\"#bd3786\"],[0.5555555555555556,\"#d8576b\"],[0.6666666666666666,\"#ed7953\"],[0.7777777777777778,\"#fb9f3a\"],[0.8888888888888888,\"#fdca26\"],[1.0,\"#f0f921\"]],\"diverging\":[[0,\"#8e0152\"],[0.1,\"#c51b7d\"],[0.2,\"#de77ae\"],[0.3,\"#f1b6da\"],[0.4,\"#fde0ef\"],[0.5,\"#f7f7f7\"],[0.6,\"#e6f5d0\"],[0.7,\"#b8e186\"],[0.8,\"#7fbc41\"],[0.9,\"#4d9221\"],[1,\"#276419\"]]},\"xaxis\":{\"gridcolor\":\"white\",\"linecolor\":\"white\",\"ticks\":\"\",\"title\":{\"standoff\":15},\"zerolinecolor\":\"white\",\"automargin\":true,\"zerolinewidth\":2},\"yaxis\":{\"gridcolor\":\"white\",\"linecolor\":\"white\",\"ticks\":\"\",\"title\":{\"standoff\":15},\"zerolinecolor\":\"white\",\"automargin\":true,\"zerolinewidth\":2},\"scene\":{\"xaxis\":{\"backgroundcolor\":\"#E5ECF6\",\"gridcolor\":\"white\",\"linecolor\":\"white\",\"showbackground\":true,\"ticks\":\"\",\"zerolinecolor\":\"white\",\"gridwidth\":2},\"yaxis\":{\"backgroundcolor\":\"#E5ECF6\",\"gridcolor\":\"white\",\"linecolor\":\"white\",\"showbackground\":true,\"ticks\":\"\",\"zerolinecolor\":\"white\",\"gridwidth\":2},\"zaxis\":{\"backgroundcolor\":\"#E5ECF6\",\"gridcolor\":\"white\",\"linecolor\":\"white\",\"showbackground\":true,\"ticks\":\"\",\"zerolinecolor\":\"white\",\"gridwidth\":2}},\"shapedefaults\":{\"line\":{\"color\":\"#2a3f5f\"}},\"annotationdefaults\":{\"arrowcolor\":\"#2a3f5f\",\"arrowhead\":0,\"arrowwidth\":1},\"geo\":{\"bgcolor\":\"white\",\"landcolor\":\"#E5ECF6\",\"subunitcolor\":\"white\",\"showland\":true,\"showlakes\":true,\"lakecolor\":\"white\"},\"title\":{\"x\":0.05},\"mapbox\":{\"style\":\"light\"}}}},                        {\"responsive\": true}                    ).then(function(){\n",
              "                            \n",
              "var gd = document.getElementById('4dc30243-2ce3-41c8-870d-3ee767d61e21');\n",
              "var x = new MutationObserver(function (mutations, observer) {{\n",
              "        var display = window.getComputedStyle(gd).display;\n",
              "        if (!display || display === 'none') {{\n",
              "            console.log([gd, 'removed!']);\n",
              "            Plotly.purge(gd);\n",
              "            observer.disconnect();\n",
              "        }}\n",
              "}});\n",
              "\n",
              "// Listen for the removal of the full notebook cells\n",
              "var notebookContainer = gd.closest('#notebook-container');\n",
              "if (notebookContainer) {{\n",
              "    x.observe(notebookContainer, {childList: true});\n",
              "}}\n",
              "\n",
              "// Listen for the clearing of the current output cell\n",
              "var outputEl = gd.closest('.output');\n",
              "if (outputEl) {{\n",
              "    x.observe(outputEl, {childList: true});\n",
              "}}\n",
              "\n",
              "                        })                };                            </script>        </div>\n",
              "</body>\n",
              "</html>"
            ]
          },
          "metadata": {}
        }
      ]
    }
  ]
}